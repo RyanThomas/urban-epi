{
 "cells": [
  {
   "cell_type": "code",
   "execution_count": 1,
   "metadata": {
    "collapsed": true
   },
   "outputs": [],
   "source": [
    "import osmnx as ox, matplotlib.pyplot as plt\n",
    "from descartes import PolygonPatch\n",
    "from shapely.geometry import Polygon, MultiPolygon\n",
    "ox.config(log_console=True, use_cache=True)"
   ]
  },
  {
   "cell_type": "code",
   "execution_count": 2,
   "metadata": {
    "collapsed": true
   },
   "outputs": [],
   "source": [
    "#Beijing, Jakarta,London, Los Angeles, Manila, Mexico, New Delhi, New York,Sao Paulo, Seoul, Singapore, Tokyo, Lagos,\n",
    "#Nairobi, Bangalore, Ho Chi Minh\n",
    "\n",
    "place_names = ['Ho Chi Minh City, Vietnam',\n",
    "               'Beijing, China', \n",
    "               'Jakarta, Indonesia',\n",
    "               'London, UK']"
   ]
  },
  {
   "cell_type": "code",
   "execution_count": 3,
   "metadata": {
    "collapsed": false
   },
   "outputs": [
    {
     "data": {
      "image/png": "[encoded data removed]",
      "text/plain": [
       "<matplotlib.figure.Figure at 0x7f841005d910>"
      ]
     },
     "metadata": {},
     "output_type": "display_data"
    }
   ],
   "source": [
    "# pass in buffer_dist in meters\n",
    "cities_buffered = ox.gdf_from_places(place_names, gdf_name='global_cities', buffer_dist=20000)\n",
    "fig, ax = ox.plot_shape(cities_buffered, alpha=0.7)"
   ]
  },
  {
   "cell_type": "code",
   "execution_count": null,
   "metadata": {
    "collapsed": true
   },
   "outputs": [],
   "source": [
    "# save the retrieved and projected data as a shapefile\n",
    "ox.save_gdf_shapefile(east_bay)"
   ]
  },
  {
   "cell_type": "code",
   "execution_count": 4,
   "metadata": {
    "collapsed": false
   },
   "outputs": [
    {
     "ename": "TypeError",
     "evalue": "graph_from_place() got an unexpected keyword argument 'gdf_name'",
     "output_type": "error",
     "traceback": [
      "\u001b[0;31m---------------------------------------------------------------------------\u001b[0m",
      "\u001b[0;31mTypeError\u001b[0m                                 Traceback (most recent call last)",
      "\u001b[0;32m<ipython-input-4-0c4926466e20>\u001b[0m in \u001b[0;36m<module>\u001b[0;34m()\u001b[0m\n\u001b[0;32m----> 1\u001b[0;31m \u001b[0mG\u001b[0m \u001b[0;34m=\u001b[0m \u001b[0mox\u001b[0m\u001b[0;34m.\u001b[0m\u001b[0mgraph_from_place\u001b[0m\u001b[0;34m(\u001b[0m\u001b[0mplace_names\u001b[0m\u001b[0;34m,\u001b[0m \u001b[0mnetwork_type\u001b[0m\u001b[0;34m=\u001b[0m\u001b[0;34m'drive'\u001b[0m\u001b[0;34m,\u001b[0m \u001b[0mretain_all\u001b[0m\u001b[0;34m=\u001b[0m\u001b[0mTrue\u001b[0m\u001b[0;34m,\u001b[0m \u001b[0mgdf_name\u001b[0m\u001b[0;34m=\u001b[0m\u001b[0;34m'city_streets'\u001b[0m\u001b[0;34m)\u001b[0m\u001b[0;34m\u001b[0m\u001b[0m\n\u001b[0m\u001b[1;32m      2\u001b[0m \u001b[0mG\u001b[0m\u001b[0;34m\u001b[0m\u001b[0m\n",
      "\u001b[0;31mTypeError\u001b[0m: graph_from_place() got an unexpected keyword argument 'gdf_name'"
     ]
    }
   ],
   "source": [
    "G = ox.graph_from_place(place_names, network_type='drive', retain_all=True, gdf_name='city_streets')\n",
    "G"
   ]
  }
 ],
 "metadata": {
  "kernelspec": {
   "display_name": "Python 2",
   "language": "python",
   "name": "python2"
  },
  "language_info": {
   "codemirror_mode": {
    "name": "ipython",
    "version": 2
   },
   "file_extension": ".py",
   "mimetype": "text/x-python",
   "name": "python",
   "nbconvert_exporter": "python",
   "pygments_lexer": "ipython2",
   "version": "2.7.12"
  }
 },
 "nbformat": 4,
 "nbformat_minor": 2
}
