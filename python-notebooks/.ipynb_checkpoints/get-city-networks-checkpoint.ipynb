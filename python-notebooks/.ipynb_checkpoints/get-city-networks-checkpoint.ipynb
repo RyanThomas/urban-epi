{
 "cells": [
  {
   "cell_type": "code",
   "execution_count": 51,
   "metadata": {
    "collapsed": false
   },
   "outputs": [
    {
     "name": "stderr",
     "output_type": "stream",
     "text": [
      "INFO:osmnx:Configured osmnx\n"
     ]
    }
   ],
   "source": [
    "#! /bin/bash/env python\n",
    "\n",
    "import osmnx as ox\n",
    "from osmnx import basic_stats\n",
    "import json\n",
    "import os, sys\n",
    "\n",
    "ox.config(log_file=True, log_console=False, use_cache=True)\n"
   ]
  },
  {
   "cell_type": "code",
   "execution_count": 6,
   "metadata": {
    "collapsed": true
   },
   "outputs": [],
   "source": [
    "\n",
    "places = ['Ho Chi Minh City, Vietnam']\n"
   ]
  },
  {
   "cell_type": "code",
   "execution_count": 7,
   "metadata": {
    "collapsed": false
   },
   "outputs": [
    {
     "name": "stderr",
     "output_type": "stream",
     "text": [
      "INFO:osmnx:Retrieved response from cache file \"cache/8ee0b2caf7429c60d120415f5db6f9f5.json\" for URL \"https://nominatim.openstreetmap.org/search?format=json&limit=1&dedupe=0&polygon_geojson=1&q=Ho+Chi+Minh+City%2C+Vietnam\"\n",
      "INFO:osmnx:Created GeoDataFrame with 1 row for query \"Ho Chi Minh City, Vietnam\"\n",
      "INFO:osmnx:Constructed place geometry polygon(s) to query API\n",
      "INFO:osmnx:Projected the GeoDataFrame \"geometry to project\" to UTM-48 in 0.02 seconds\n",
      "INFO:osmnx:Projected the GeoDataFrame \"geometry to project\" to EPSG 4326 in 0.02 seconds\n",
      "INFO:osmnx:Projected the GeoDataFrame \"geometry to project\" to UTM-48 in 0.02 seconds\n",
      "INFO:osmnx:Projected the GeoDataFrame \"geometry to project\" to EPSG 4326 in 0.00 seconds\n",
      "INFO:osmnx:Requesting network data within polygon from API in 5 request(s)\n",
      "INFO:osmnx:Pausing 0.00 seconds before making API POST request\n",
      "INFO:osmnx:Posting to http://www.overpass-api.de/api/interpreter with timeout=180, \"{'data': '[out:json][timeout:180];(way[\"highway\"][\"area\"!~\"yes\"][\"highway\"!~\"cycleway|footway|path|pedestrian|steps|track|proposed|construction|bridleway|abandoned|platform|raceway|service\"][\"motor_vehicle\"!~\"no\"][\"motorcar\"!~\"no\"][\"access\"!~\"private\"][\"service\"!~\"parking|parking_aisle|driveway|private|emergency_access\"](poly:\"10.13543052858516 106.99317255905848 10.13547146562236 106.99272786277426 10.13555529639310 106.99228933303648 10.13568121682325 106.99186117896951 10.13584801983659 106.99144750499610 10.13605410643990 106.99105227675086 10.13629750104862 106.99067928306722 10.13657587042255 106.99033209965815 10.13688654603021 106.99001405483848 10.47901633275945 106.69582610758572 10.47708027888309 107.02681243886312 10.13973225254167 106.99792810107729 10.13929178375942 106.99788518056114 10.13885758501068 106.99779899141356 10.13843381873298 106.99767036005085 10.13802454733966 106.99750051974472 10.13763369427797 106.99729109879429 10.13726500641972 106.99704410491238 10.13692201814493 106.99676190597543 10.13660801746260 106.99644720732209 10.13632601449333 106.99610302581834 10.13607871261573 106.99573266093677 10.13586848255320 106.99533966312872 10.13569733964927 106.99492779979107 10.13556692454927 106.99450101915440 10.13547848747358 106.99406341243872 10.13543287623303 106.99361917463865 10.13543052831113 106.99317260421832 10.13543052858516 106.99317255905848\");>;);out;'}\"\n",
      "INFO:osmnx:Downloaded 247.1KB from www.overpass-api.de in 4.71 seconds\n",
      "INFO:osmnx:Saved response to cache file \"cache/ba68be07005b31059d788c42dabb598b.json\"\n",
      "INFO:osmnx:Pausing 0.00 seconds before making API POST request\n",
      "INFO:osmnx:Posting to http://www.overpass-api.de/api/interpreter with timeout=180, \"{'data': '[out:json][timeout:180];(way[\"highway\"][\"area\"!~\"yes\"][\"highway\"!~\"cycleway|footway|path|pedestrian|steps|track|proposed|construction|bridleway|abandoned|platform|raceway|service\"][\"motor_vehicle\"!~\"no\"][\"motorcar\"!~\"no\"][\"access\"!~\"private\"][\"service\"!~\"parking|parking_aisle|driveway|private|emergency_access\"](poly:\"10.47901633366767 106.69582610680375 10.48473270513374 106.69090423579031 10.82094251966948 106.69276009485255 10.81977474943077 106.89373274519014 10.60471551761535 107.02401759066392 10.60436185959832 107.02421964375812 10.60358185592366 107.02461963413575 10.59035149595295 107.03096858726690 10.58996231294608 107.03113020780035 10.58955994584233 107.03125454508211 10.58822634440639 107.03159892534372 10.58772107072785 107.03169881050385 10.58720783596525 107.03173996280937 10.58606653873411 107.03176554576423 10.54104433744491 107.03223042143530 10.54048247031490 107.03222865960976 10.54048232926739 107.03222865868450 10.53910694198020 107.03213773952805 10.47708027978649 107.02681243894064 10.47901633366767 106.69582610680375\");>;);out;'}\"\n",
      "INFO:osmnx:Downloaded 3,828.9KB from www.overpass-api.de in 8.67 seconds\n",
      "INFO:osmnx:Saved response to cache file \"cache/6aa15e00a4a2bdf2da9b84edbd3ec1e7.json\"\n",
      "INFO:osmnx:Pausing 0.00 seconds before making API POST request\n",
      "INFO:osmnx:Posting to http://www.overpass-api.de/api/interpreter with timeout=180, \"{'data': '[out:json][timeout:180];(way[\"highway\"][\"area\"!~\"yes\"][\"highway\"!~\"cycleway|footway|path|pedestrian|steps|track|proposed|construction|bridleway|abandoned|platform|raceway|service\"][\"motor_vehicle\"!~\"no\"][\"motorcar\"!~\"no\"][\"access\"!~\"private\"][\"service\"!~\"parking|parking_aisle|driveway|private|emergency_access\"](poly:\"10.48473270618798 106.69090423488258 10.74253976807691 106.46869751886523 10.74564698422832 106.46622847164053 10.75369877383045 106.45997722659597 10.75406363683724 106.45971380538946 10.75445250486933 106.45948822520124 10.82227800420823 106.42869019933640 10.82094251967449 106.69276009393812 10.48473270618798 106.69090423488258\");>;);out;'}\"\n",
      "INFO:osmnx:Downloaded 4,499.5KB from www.overpass-api.de in 18.94 seconds\n",
      "INFO:osmnx:Saved response to cache file \"cache/818266423a58acffacdf66cefde5e103.json\"\n",
      "INFO:osmnx:Pausing 0.00 seconds before making API POST request\n",
      "INFO:osmnx:Posting to http://www.overpass-api.de/api/interpreter with timeout=180, \"{'data': '[out:json][timeout:180];(way[\"highway\"][\"area\"!~\"yes\"][\"highway\"!~\"cycleway|footway|path|pedestrian|steps|track|proposed|construction|bridleway|abandoned|platform|raceway|service\"][\"motor_vehicle\"!~\"no\"][\"motorcar\"!~\"no\"][\"access\"!~\"private\"][\"service\"!~\"parking|parking_aisle|driveway|private|emergency_access\"](poly:\"10.82227800511428 106.42869019892490 10.98970925144830 106.35260748102918 10.99010536884264 106.35243415682569 10.99051601021625 106.35229984928432 10.99093743365095 106.35220578243646 10.99136579896101 106.35215281363570 10.99179718790322 106.35214142612926 10.99179720963776 106.35214142622824 10.99222771366085 106.35217172270022 10.99265340883916 106.35224342861589 10.99307040904289 106.35235589023331 10.99347491431304 106.35250808289709 10.99386323853885 106.35269861988104 11.15934013567816 106.44789346977750 11.16010434247275 106.44835836477871 11.16043504334095 106.44858009753364 11.16074527984235 106.44883033204214 11.16103266384628 106.44910714212740 11.16172057129615 106.44983054468067 11.16199349400971 106.45014516496099 11.16223688489091 106.45048372640454 11.16244870717476 106.45084339585770 11.16300931338792 106.45190260811866 11.16318305684246 106.45226909101035 11.16332401103884 106.45264973861278 11.16368071435700 106.45376075458576 11.16381726061035 106.45429279532219 11.16388985155866 106.45483757530131 11.16394095098920 106.45553508621065 11.16395281334390 106.45594371625242 11.16405473099606 106.46314851271941 11.16405473084668 106.46314854330772 11.16402466957996 106.46357078352447 11.16395622098528 106.46398841270074 11.16387981919156 106.46435011762522 11.16377342388174 106.46476002573257 11.16363005146794 106.46515821206859 11.14643032356230 106.50894013785496 11.14623146755081 106.50939062175932 11.14598588341209 106.50981681245564 11.14585588157505 106.51001681347027 11.14556977277655 106.51040964305116 11.01170309328810 106.69384070675014 10.82094252057851 106.69276009394319 10.82227800511428 106.42869019892490\");>;);out;'}\"\n",
      "INFO:osmnx:Downloaded 4,439.5KB from www.overpass-api.de in 11.62 seconds\n",
      "INFO:osmnx:Saved response to cache file \"cache/2461b7bf27b39461af4d87703d835360.json\"\n",
      "INFO:osmnx:Pausing 0.00 seconds before making API POST request\n",
      "INFO:osmnx:Posting to http://www.overpass-api.de/api/interpreter with timeout=180, \"{'data': '[out:json][timeout:180];(way[\"highway\"][\"area\"!~\"yes\"][\"highway\"!~\"cycleway|footway|path|pedestrian|steps|track|proposed|construction|bridleway|abandoned|platform|raceway|service\"][\"motor_vehicle\"!~\"no\"][\"motorcar\"!~\"no\"][\"access\"!~\"private\"][\"service\"!~\"parking|parking_aisle|driveway|private|emergency_access\"](poly:\"11.01170309262255 106.69384070766138 10.90267047680726 106.84302608102553 10.90238914779003 106.84338375589314 10.90207393298153 106.84371122578838 10.90172798195795 106.84400521881751 10.90135475138884 106.84426279761217 10.81977475033809 106.89373274464008 10.82094252057349 106.69276009485763 11.01170309262255 106.69384070766138\");>;);out;'}\"\n",
      "INFO:osmnx:Downloaded 3,086.9KB from www.overpass-api.de in 12.02 seconds\n",
      "INFO:osmnx:Saved response to cache file \"cache/2496d8d49ccd0f74fd464d85f426d35a.json\"\n",
      "INFO:osmnx:Got all network data within polygon from API in 5 request(s) and 61.34 seconds\n",
      "INFO:osmnx:Creating networkx graph from downloaded OSM data...\n",
      "INFO:osmnx:Created graph with 121,742 nodes and 246,622 edges in 3.07 seconds\n",
      "INFO:osmnx:Added edge lengths to graph in 4.73 seconds\n",
      "INFO:osmnx:Identifying all nodes that lie outside the polygon...\n",
      "INFO:osmnx:Created r-tree spatial index for 121,742 points in 7.12 seconds\n",
      "INFO:osmnx:Identified 90,995 nodes inside polygon in 3.89 seconds\n",
      "INFO:osmnx:Removed 30,747 nodes outside polygon in 0.08 seconds\n",
      "INFO:osmnx:Begin topologically simplifying the graph...\n",
      "INFO:osmnx:Identified 27,278 edge endpoints in 1.04 seconds\n",
      "INFO:osmnx:Constructed all paths to simplify in 0.24 seconds\n",
      "INFO:osmnx:Simplified graph (from 90,995 to 27,290 nodes and from 184,284 to 70,099 edges) in 5.87 seconds\n",
      "INFO:osmnx:Identifying all nodes that lie outside the polygon...\n",
      "INFO:osmnx:Created r-tree spatial index for 27,290 points in 1.65 seconds\n",
      "INFO:osmnx:Identified 26,053 nodes inside polygon in 1.57 seconds\n",
      "INFO:osmnx:Removed 1,237 nodes outside polygon in 0.01 seconds\n",
      "INFO:osmnx:Got the counts of undirected street segments incident to each node (before removing peripheral edges) in 3.29 seconds\n",
      "INFO:osmnx:graph_from_polygon() returning graph with 26,053 nodes and 67,150 edges\n",
      "INFO:osmnx:graph_from_place() returning graph with 26,053 nodes and 67,150 edges\n"
     ]
    }
   ],
   "source": [
    "for place in places:\n",
    "    name = (place.replace(\",\",\"\").replace(\" \",\"\")) # make better place_names\n",
    "    # use retain_all if you want to keep all disconnected subgraphs (e.g. when your places aren't adjacent)\n",
    "    G = ox.graph_from_place(place, network_type='drive', retain_all=True)\n",
    "    "
   ]
  },
  {
   "cell_type": "code",
   "execution_count": 55,
   "metadata": {
    "collapsed": false
   },
   "outputs": [
    {
     "ename": "OSError",
     "evalue": "[Errno 2] No such file or directory: '../../data/vector/city_network/HoChiMinhCityVietnam/'",
     "output_type": "error",
     "traceback": [
      "\u001b[1;31m---------------------------------------------------------------------------\u001b[0m",
      "\u001b[1;31mOSError\u001b[0m                                   Traceback (most recent call last)",
      "\u001b[1;32m<ipython-input-55-23be0d6cd78b>\u001b[0m in \u001b[0;36m<module>\u001b[1;34m()\u001b[0m\n\u001b[0;32m      4\u001b[0m \u001b[1;31m# save to file:\u001b[0m\u001b[1;33m\u001b[0m\u001b[1;33m\u001b[0m\u001b[0m\n\u001b[0;32m      5\u001b[0m \u001b[0mfilepath\u001b[0m \u001b[1;33m=\u001b[0m \u001b[1;34m'../../data/vector/city_network/'\u001b[0m \u001b[1;33m+\u001b[0m \u001b[0mname\u001b[0m \u001b[1;33m+\u001b[0m \u001b[1;34m'/'\u001b[0m\u001b[1;33m\u001b[0m\u001b[0m\n\u001b[1;32m----> 6\u001b[1;33m \u001b[0mos\u001b[0m\u001b[1;33m.\u001b[0m\u001b[0mmkdir\u001b[0m\u001b[1;33m(\u001b[0m \u001b[0mfilepath\u001b[0m \u001b[1;33m)\u001b[0m\u001b[1;33m;\u001b[0m\u001b[1;33m\u001b[0m\u001b[0m\n\u001b[0m\u001b[0;32m      7\u001b[0m \u001b[1;32mwith\u001b[0m \u001b[0mopen\u001b[0m\u001b[1;33m(\u001b[0m\u001b[1;34m'stats.json'\u001b[0m\u001b[1;33m,\u001b[0m \u001b[1;34m'wb'\u001b[0m\u001b[1;33m)\u001b[0m \u001b[1;32mas\u001b[0m \u001b[0mf\u001b[0m\u001b[1;33m:\u001b[0m\u001b[1;33m\u001b[0m\u001b[0m\n\u001b[0;32m      8\u001b[0m     \u001b[0mjson\u001b[0m\u001b[1;33m.\u001b[0m\u001b[0mdump\u001b[0m\u001b[1;33m(\u001b[0m\u001b[0mstats\u001b[0m\u001b[1;33m,\u001b[0m \u001b[0mf\u001b[0m\u001b[1;33m)\u001b[0m\u001b[1;33m\u001b[0m\u001b[0m\n",
      "\u001b[1;31mOSError\u001b[0m: [Errno 2] No such file or directory: '../../data/vector/city_network/HoChiMinhCityVietnam/'"
     ]
    }
   ],
   "source": [
    "\n",
    "\n",
    "stats = basic_stats(G)\n",
    "# save to file:\n",
    "filepath = '../../data/vector/city_network/' + name + '/'\n",
    "os.mkdir( filepath )\n",
    "with open('stats.json', 'wb') as f:\n",
    "    json.dump(stats, f)\n"
   ]
  },
  {
   "cell_type": "code",
   "execution_count": null,
   "metadata": {
    "collapsed": true
   },
   "outputs": [],
   "source": []
  }
 ],
 "metadata": {
  "kernelspec": {
   "display_name": "Python 2",
   "language": "python",
   "name": "python2"
  },
  "language_info": {
   "codemirror_mode": {
    "name": "ipython",
    "version": 2
   },
   "file_extension": ".py",
   "mimetype": "text/x-python",
   "name": "python",
   "nbconvert_exporter": "python",
   "pygments_lexer": "ipython2",
   "version": "2.7.12"
  },
  "widgets": {
   "state": {},
   "version": "1.1.2"
  }
 },
 "nbformat": 4,
 "nbformat_minor": 0
}
