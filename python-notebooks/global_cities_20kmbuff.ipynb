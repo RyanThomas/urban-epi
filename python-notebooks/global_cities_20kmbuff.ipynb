{
 "cells": [
  {
   "cell_type": "code",
   "execution_count": 1,
   "metadata": {
    "collapsed": false
   },
   "outputs": [],
   "source": [
    "import osmnx as ox, matplotlib.pyplot as plt\n",
    "from descartes import PolygonPatch\n",
    "from shapely.geometry import Polygon, MultiPolygon\n",
    "ox.config(log_console=True, use_cache=True)"
   ]
  },
  {
   "cell_type": "code",
   "execution_count": 2,
   "metadata": {
    "collapsed": true
   },
   "outputs": [],
   "source": [
    "#Beijing, Jakarta, London, Los Angeles, Manila, Mexico, New Delhi, New York,Sao Paulo, Seoul, Singapore, Tokyo, Lagos,\n",
    "#Nairobi, Bangalore, Ho Chi Minh\n",
    "\n",
    "place_names = ['Ho Chi Minh City, Vietnam',\n",
    "               'Beijing, China', \n",
    "               'Jakarta, Indonesia',\n",
    "               'London, UK',\n",
    "               'Los Angeles, California, USA',\n",
    "               'Manila, Philippines',\n",
    "               'Mexico City, Mexico',\n",
    "               'Quito, Ecuador',\n",
    "               'New Delhi, India',\n",
    "               'Sao Paulo, Brazil',\n",
    "               'New York, New York, USA',\n",
    "               'Seoul, South Korea',\n",
    "               'Singapore, Singapore',\n",
    "               'Tokyo, Japan',\n",
    "               'Nairobi, Kenya',\n",
    "               'Bangalore, India']\n"
   ]
  },
  {
   "cell_type": "code",
   "execution_count": 3,
   "metadata": {
    "collapsed": true
   },
   "outputs": [],
   "source": [
    "# Right now we're not using this function. It could be implemented in future to better replace the names.\n",
    "def replace_name(name):\n",
    "    replace_dict = {\"Tp HCM, \": 'Ho Chi correct', 'a':'b'}\n",
    "    if name in replace_dict:\n",
    "        return replace_dict[name]\n",
    "    else:\n",
    "        return name"
   ]
  },
  {
   "cell_type": "code",
   "execution_count": 4,
   "metadata": {
    "collapsed": false,
    "scrolled": true
   },
   "outputs": [
    {
     "name": "stdout",
     "output_type": "stream",
     "text": [
      "getting shape of: HoChiMinhCityVietnam\n",
      "getting shape of: BeijingChina\n",
      "getting shape of: JakartaIndonesia\n",
      "getting shape of: LondonUK\n",
      "getting shape of: LosAngelesCaliforniaUSA\n",
      "getting shape of: ManilaPhilippines\n",
      "getting shape of: MexicoCityMexico\n",
      "getting shape of: QuitoEcuador\n",
      "getting shape of: NewDelhiIndia\n",
      "getting shape of: SaoPauloBrazil\n",
      "getting shape of: NewYorkNewYorkUSA\n",
      "getting shape of: SeoulSouthKorea\n",
      "getting shape of: SingaporeSingapore\n",
      "getting shape of: TokyoJapan\n",
      "getting shape of: NairobiKenya\n",
      "getting shape of: BangaloreIndia\n"
     ]
    }
   ],
   "source": [
    "# pass in buffer_dist in meters - notice plural 'gdf_from_places'\n",
    "for place in place_names:\n",
    "    name = (place.replace(\",\",\"\").replace(\" \",\"\"))\n",
    "    print(\"getting shape of: \" + name)\n",
    "    city_20kmbuff = ox.gdf_from_place(place, buffer_dist=20000)\n",
    "    city_20kmbuff['place_name'] = name\n",
    "    ox.save_gdf_shapefile(city_20kmbuff, filename=name, folder='../../data/vector/city_shapes/')\n"
   ]
  }
 ],
 "metadata": {
  "kernelspec": {
   "display_name": "Python 2",
   "language": "python",
   "name": "python2"
  },
  "language_info": {
   "codemirror_mode": {
    "name": "ipython",
    "version": 2
   },
   "file_extension": ".py",
   "mimetype": "text/x-python",
   "name": "python",
   "nbconvert_exporter": "python",
   "pygments_lexer": "ipython2",
   "version": "2.7.12"
  },
  "widgets": {
   "state": {},
   "version": "1.1.2"
  }
 },
 "nbformat": 4,
 "nbformat_minor": 2
}
