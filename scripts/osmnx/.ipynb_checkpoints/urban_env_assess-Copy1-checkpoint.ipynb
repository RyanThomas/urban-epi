{
 "cells": [
  {
   "cell_type": "code",
   "execution_count": 1,
   "metadata": {
    "collapsed": true
   },
   "outputs": [],
   "source": [
    "import osmnx as ox, matplotlib.pyplot as plt\n",
    "from descartes import PolygonPatch\n",
    "from shapely.geometry import Polygon, MultiPolygon\n",
    "ox.config(log_console=True, use_cache=True)"
   ]
  },
  {
   "cell_type": "code",
   "execution_count": 12,
   "metadata": {
    "collapsed": true
   },
   "outputs": [],
   "source": [
    "#Beijing, Jakarta, London, Los Angeles, Manila, Mexico, New Delhi, New York,Sao Paulo, Seoul, Singapore, Tokyo, Lagos,\n",
    "#Nairobi, Bangalore, Ho Chi Minh\n",
    "\n",
    "place_names = ['Ho Chi Minh City, Vietnam',\n",
    "               #'Beijing, China', \n",
    "               #'Jakarta, Indonesia',\n",
    "               'Quito, Ecuador'\n",
    "               'London, UK',\n",
    "               'Los Angeles, California, USA',\n",
    "               'Manila, Philippines',\n",
    "               #'Mexico City, Mexico',\n",
    "               'New Delhi, India',\n",
    "               'Sao Paulo, Brazil',\n",
    "               'New York, New York, USA',\n",
    "               'Seoul',\n",
    "               'Singapore',\n",
    "               'Tokyo, Japan',\n",
    "               #'Nairobi, Kenya',\n",
    "               #'Bangalore, India'\n",
    "              ]"
   ]
  },
  {
   "cell_type": "code",
   "execution_count": null,
   "metadata": {
    "collapsed": true
   },
   "outputs": [],
   "source": [
    "# In this for-loop, we save all the shapefiles for the valid cities.\n",
    "for city in place_names:  \n",
    "    city_admin_20kmbuff = ox.gdf_from_place(city, gdf_name = 'global_cities', name_lng=\"name:en\")\n",
    "    fig, ax = ox.plot_shape(city_admin_20kmbuff)\n",
    "    ox.save_gdf_shapefile(city_admin_20kmbuff, filename = city.replace(\" \", \"\").replace(\",\",\"\") )"
   ]
  },
  {
   "cell_type": "code",
   "execution_count": null,
   "metadata": {
    "collapsed": true
   },
   "outputs": [],
   "source": [
    "# In this for-loop, we save all the street networks for the valid cities.\n",
    "for city in place_names:\n",
    "    grid = ox.graph_from_place(city, network_type = 'drive', retain_all = True)\n",
    "    streets_per_node = grid.graph['streets_per_node']\n",
    "    node_ids = set(grid.nodes())\n",
    "    intersections = [node for node, count in streets_per_node.items() if count>1]\n",
    "    dead_ends = [node for node, count in streets_per_node.items() if count==1]\n",
    "    grid_projected = ox.project_graph(grid)\n",
    "    ox.save_graph_shapefile(grid_projected, filename = city + '_grid')\n",
    "    ox.plot_graph(grid_projected)"
   ]
  }
 ],
 "metadata": {
  "kernelspec": {
   "display_name": "Python 2",
   "language": "python",
   "name": "python2"
  },
  "language_info": {
   "codemirror_mode": {
    "name": "ipython",
    "version": 2
   },
   "file_extension": ".py",
   "mimetype": "text/x-python",
   "name": "python",
   "nbconvert_exporter": "python",
   "pygments_lexer": "ipython2",
   "version": "2.7.12"
  },
  "widgets": {
   "state": {},
   "version": "1.1.2"
  }
 },
 "nbformat": 4,
 "nbformat_minor": 0
}
